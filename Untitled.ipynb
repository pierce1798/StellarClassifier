{
 "cells": [
  {
   "cell_type": "markdown",
   "metadata": {},
   "source": []
  },
  {
   "cell_type": "code",
   "execution_count": 29,
   "metadata": {},
   "outputs": [],
   "source": [
    "import pandas as pd\n",
    "import numpy as np\n",
    "from matplotlib import pyplot as plt\n",
    "import seaborn as sns\n",
    "\n",
    "from sklearn.tree import DecisionTreeClassifier, plot_tree\n",
    "from sklearn.model_selection import train_test_split, GridSearchCV, cross_val_score, KFold\n",
    "from sklearn.pipeline import Pipeline\n",
    "from sklearn.preprocessing import StandardScaler, OneHotEncoder, FunctionTransformer, LabelEncoder\n",
    "from sklearn.impute import SimpleImputer\n",
    "from sklearn.compose import ColumnTransformer,  make_column_selector as selector\n",
    "from sklearn.linear_model import LogisticRegression\n",
    "from sklearn.ensemble import RandomForestClassifier, GradientBoostingClassifier\n",
    "from sklearn.metrics import plot_confusion_matrix, recall_score,\\\n",
    "    accuracy_score, precision_score, f1_score, confusion_matrix\n",
    "from sklearn.dummy import DummyClassifier\n",
    "from sklearn.neighbors import KNeighborsClassifier, NearestNeighbors\n",
    "from imblearn.over_sampling import SMOTE\n",
    "from imblearn.pipeline import Pipeline as ImPipeline"
   ]
  },
  {
   "cell_type": "markdown",
   "metadata": {},
   "source": [
    "### Feature Descriptions"
   ]
  },
  {
   "cell_type": "code",
   "execution_count": 2,
   "metadata": {},
   "outputs": [],
   "source": [
    "obj_ID = 'Object Identifier, the unique value that identifies the object in the image catalog used by the CAS'\n",
    "alpha = 'Right Ascension angle (at J2000 epoch)'\n",
    "delta = 'Declination angle (at J2000 epoch)'\n",
    "u = 'Ultraviolet filter in the photometric system'\n",
    "g = 'Green filter in the photometric system'\n",
    "r = 'Red filter in the photometric system'\n",
    "i = 'Near Infrared filter in the photometric system'\n",
    "z = 'Infrared filter in the photometric system'\n",
    "run_ID = 'Run Number used to identify the specific scan'\n",
    "rereun_ID = 'Rerun Number to specify how the image was processed'\n",
    "cam_col = 'Camera column to identify the scanline within the run'\n",
    "field_ID = 'Field number to identify each field'\n",
    "spec_obj_ID = 'Unique ID used for optical spectroscopic objects (this means that 2 different observations with the same spec_obj_ID must share the output class)'\n",
    "class_ = 'object class (galaxy, star or quasar object)'\n",
    "redshift = 'redshift value based on the increase in wavelength'\n",
    "plate = 'plate ID, identifies each plate in SDSS'\n",
    "MJD = 'Modified Julian Date, used to indicate when a given piece of SDSS data was taken'\n",
    "fiber_ID = 'fiber ID that identifies the fiber that pointed the light at the focal plane in each observation'"
   ]
  },
  {
   "cell_type": "markdown",
   "metadata": {},
   "source": [
    "### Functions to quickly create models and get scores"
   ]
  },
  {
   "cell_type": "code",
   "execution_count": 3,
   "metadata": {},
   "outputs": [],
   "source": [
    "def print_scores(estimator, X_train, X_test, y_train, y_test):\n",
    "    cv_scores = cross_val_score(estimator, X_train,y_train)\n",
    "    print(f'Cross Val: {cv_scores}')\n",
    "    print(f'Median: {np.median(cv_scores)}')\n",
    "    print(f'Test: {estimator.score(X_test, y_test)}')\n",
    "    \n",
    "    \n",
    "def get_mod(X, y, classifier):\n",
    "    X_train, X_test, y_train, y_test = train_test_split(X,y)\n",
    "    ss = StandardScaler()\n",
    "    ss1 = StandardScaler()\n",
    "    ss.fit_transform(X_train,y_train)\n",
    "    #ss1.fit_transform(X_test,y_test)\n",
    "    c = classifier\n",
    "    c = c.fit(X_train,y_train)\n",
    "    return c"
   ]
  },
  {
   "cell_type": "markdown",
   "metadata": {},
   "source": [
    "### Setting Data Frame = df and looking at the data for the features"
   ]
  },
  {
   "cell_type": "code",
   "execution_count": 4,
   "metadata": {},
   "outputs": [
    {
     "data": {
      "text/html": [
       "<div>\n",
       "<style scoped>\n",
       "    .dataframe tbody tr th:only-of-type {\n",
       "        vertical-align: middle;\n",
       "    }\n",
       "\n",
       "    .dataframe tbody tr th {\n",
       "        vertical-align: top;\n",
       "    }\n",
       "\n",
       "    .dataframe thead th {\n",
       "        text-align: right;\n",
       "    }\n",
       "</style>\n",
       "<table border=\"1\" class=\"dataframe\">\n",
       "  <thead>\n",
       "    <tr style=\"text-align: right;\">\n",
       "      <th></th>\n",
       "      <th>obj_ID</th>\n",
       "      <th>alpha</th>\n",
       "      <th>delta</th>\n",
       "      <th>u</th>\n",
       "      <th>g</th>\n",
       "      <th>r</th>\n",
       "      <th>i</th>\n",
       "      <th>z</th>\n",
       "      <th>run_ID</th>\n",
       "      <th>rerun_ID</th>\n",
       "      <th>cam_col</th>\n",
       "      <th>field_ID</th>\n",
       "      <th>spec_obj_ID</th>\n",
       "      <th>class</th>\n",
       "      <th>redshift</th>\n",
       "      <th>plate</th>\n",
       "      <th>MJD</th>\n",
       "      <th>fiber_ID</th>\n",
       "    </tr>\n",
       "  </thead>\n",
       "  <tbody>\n",
       "    <tr>\n",
       "      <th>0</th>\n",
       "      <td>1.237661e+18</td>\n",
       "      <td>135.689107</td>\n",
       "      <td>32.494632</td>\n",
       "      <td>23.87882</td>\n",
       "      <td>22.27530</td>\n",
       "      <td>20.39501</td>\n",
       "      <td>19.16573</td>\n",
       "      <td>18.79371</td>\n",
       "      <td>3606</td>\n",
       "      <td>301</td>\n",
       "      <td>2</td>\n",
       "      <td>79</td>\n",
       "      <td>6.543777e+18</td>\n",
       "      <td>GALAXY</td>\n",
       "      <td>0.634794</td>\n",
       "      <td>5812</td>\n",
       "      <td>56354</td>\n",
       "      <td>171</td>\n",
       "    </tr>\n",
       "    <tr>\n",
       "      <th>1</th>\n",
       "      <td>1.237665e+18</td>\n",
       "      <td>144.826101</td>\n",
       "      <td>31.274185</td>\n",
       "      <td>24.77759</td>\n",
       "      <td>22.83188</td>\n",
       "      <td>22.58444</td>\n",
       "      <td>21.16812</td>\n",
       "      <td>21.61427</td>\n",
       "      <td>4518</td>\n",
       "      <td>301</td>\n",
       "      <td>5</td>\n",
       "      <td>119</td>\n",
       "      <td>1.176014e+19</td>\n",
       "      <td>GALAXY</td>\n",
       "      <td>0.779136</td>\n",
       "      <td>10445</td>\n",
       "      <td>58158</td>\n",
       "      <td>427</td>\n",
       "    </tr>\n",
       "    <tr>\n",
       "      <th>2</th>\n",
       "      <td>1.237661e+18</td>\n",
       "      <td>142.188790</td>\n",
       "      <td>35.582444</td>\n",
       "      <td>25.26307</td>\n",
       "      <td>22.66389</td>\n",
       "      <td>20.60976</td>\n",
       "      <td>19.34857</td>\n",
       "      <td>18.94827</td>\n",
       "      <td>3606</td>\n",
       "      <td>301</td>\n",
       "      <td>2</td>\n",
       "      <td>120</td>\n",
       "      <td>5.152200e+18</td>\n",
       "      <td>GALAXY</td>\n",
       "      <td>0.644195</td>\n",
       "      <td>4576</td>\n",
       "      <td>55592</td>\n",
       "      <td>299</td>\n",
       "    </tr>\n",
       "    <tr>\n",
       "      <th>3</th>\n",
       "      <td>1.237663e+18</td>\n",
       "      <td>338.741038</td>\n",
       "      <td>-0.402828</td>\n",
       "      <td>22.13682</td>\n",
       "      <td>23.77656</td>\n",
       "      <td>21.61162</td>\n",
       "      <td>20.50454</td>\n",
       "      <td>19.25010</td>\n",
       "      <td>4192</td>\n",
       "      <td>301</td>\n",
       "      <td>3</td>\n",
       "      <td>214</td>\n",
       "      <td>1.030107e+19</td>\n",
       "      <td>GALAXY</td>\n",
       "      <td>0.932346</td>\n",
       "      <td>9149</td>\n",
       "      <td>58039</td>\n",
       "      <td>775</td>\n",
       "    </tr>\n",
       "    <tr>\n",
       "      <th>4</th>\n",
       "      <td>1.237680e+18</td>\n",
       "      <td>345.282593</td>\n",
       "      <td>21.183866</td>\n",
       "      <td>19.43718</td>\n",
       "      <td>17.58028</td>\n",
       "      <td>16.49747</td>\n",
       "      <td>15.97711</td>\n",
       "      <td>15.54461</td>\n",
       "      <td>8102</td>\n",
       "      <td>301</td>\n",
       "      <td>3</td>\n",
       "      <td>137</td>\n",
       "      <td>6.891865e+18</td>\n",
       "      <td>GALAXY</td>\n",
       "      <td>0.116123</td>\n",
       "      <td>6121</td>\n",
       "      <td>56187</td>\n",
       "      <td>842</td>\n",
       "    </tr>\n",
       "  </tbody>\n",
       "</table>\n",
       "</div>"
      ],
      "text/plain": [
       "         obj_ID       alpha      delta         u         g         r  \\\n",
       "0  1.237661e+18  135.689107  32.494632  23.87882  22.27530  20.39501   \n",
       "1  1.237665e+18  144.826101  31.274185  24.77759  22.83188  22.58444   \n",
       "2  1.237661e+18  142.188790  35.582444  25.26307  22.66389  20.60976   \n",
       "3  1.237663e+18  338.741038  -0.402828  22.13682  23.77656  21.61162   \n",
       "4  1.237680e+18  345.282593  21.183866  19.43718  17.58028  16.49747   \n",
       "\n",
       "          i         z  run_ID  rerun_ID  cam_col  field_ID   spec_obj_ID  \\\n",
       "0  19.16573  18.79371    3606       301        2        79  6.543777e+18   \n",
       "1  21.16812  21.61427    4518       301        5       119  1.176014e+19   \n",
       "2  19.34857  18.94827    3606       301        2       120  5.152200e+18   \n",
       "3  20.50454  19.25010    4192       301        3       214  1.030107e+19   \n",
       "4  15.97711  15.54461    8102       301        3       137  6.891865e+18   \n",
       "\n",
       "    class  redshift  plate    MJD  fiber_ID  \n",
       "0  GALAXY  0.634794   5812  56354       171  \n",
       "1  GALAXY  0.779136  10445  58158       427  \n",
       "2  GALAXY  0.644195   4576  55592       299  \n",
       "3  GALAXY  0.932346   9149  58039       775  \n",
       "4  GALAXY  0.116123   6121  56187       842  "
      ]
     },
     "execution_count": 4,
     "metadata": {},
     "output_type": "execute_result"
    }
   ],
   "source": [
    "df = pd.read_csv('./star_classification.csv.zip')\n",
    "df.head()"
   ]
  },
  {
   "cell_type": "code",
   "execution_count": 5,
   "metadata": {},
   "outputs": [
    {
     "name": "stdout",
     "output_type": "stream",
     "text": [
      "<class 'pandas.core.frame.DataFrame'>\n",
      "RangeIndex: 100000 entries, 0 to 99999\n",
      "Data columns (total 18 columns):\n",
      " #   Column       Non-Null Count   Dtype  \n",
      "---  ------       --------------   -----  \n",
      " 0   obj_ID       100000 non-null  float64\n",
      " 1   alpha        100000 non-null  float64\n",
      " 2   delta        100000 non-null  float64\n",
      " 3   u            100000 non-null  float64\n",
      " 4   g            100000 non-null  float64\n",
      " 5   r            100000 non-null  float64\n",
      " 6   i            100000 non-null  float64\n",
      " 7   z            100000 non-null  float64\n",
      " 8   run_ID       100000 non-null  int64  \n",
      " 9   rerun_ID     100000 non-null  int64  \n",
      " 10  cam_col      100000 non-null  int64  \n",
      " 11  field_ID     100000 non-null  int64  \n",
      " 12  spec_obj_ID  100000 non-null  float64\n",
      " 13  class        100000 non-null  object \n",
      " 14  redshift     100000 non-null  float64\n",
      " 15  plate        100000 non-null  int64  \n",
      " 16  MJD          100000 non-null  int64  \n",
      " 17  fiber_ID     100000 non-null  int64  \n",
      "dtypes: float64(10), int64(7), object(1)\n",
      "memory usage: 13.7+ MB\n"
     ]
    }
   ],
   "source": [
    "df.info()"
   ]
  },
  {
   "cell_type": "code",
   "execution_count": 6,
   "metadata": {},
   "outputs": [],
   "source": [
    "X = df.drop('class',axis=1)\n",
    "y = df['class']\n",
    "X_train,X_test,y_train,y_test = train_test_split(X,y)"
   ]
  },
  {
   "cell_type": "markdown",
   "metadata": {},
   "source": [
    "### Creating different models and looking at performence"
   ]
  },
  {
   "cell_type": "code",
   "execution_count": 7,
   "metadata": {},
   "outputs": [
    {
     "name": "stdout",
     "output_type": "stream",
     "text": [
      "Cross Val: [0.5942     0.59413333 0.59413333 0.59413333 0.59413333]\n",
      "Median: 0.5941333333333333\n",
      "Test: 0.59536\n"
     ]
    }
   ],
   "source": [
    "dummy_model = get_mod(X,y,DummyClassifier(strategy='most_frequent'))\n",
    "print_scores(dummy_model, X_train,X_test,y_train,y_test)"
   ]
  },
  {
   "cell_type": "code",
   "execution_count": 8,
   "metadata": {},
   "outputs": [
    {
     "name": "stdout",
     "output_type": "stream",
     "text": [
      "Cross Val: [0.60146667 0.60373333 0.5992     0.59813333 0.59693333]\n",
      "Median: 0.5992\n",
      "Test: 0.60364\n"
     ]
    }
   ],
   "source": [
    "logreg_model = get_mod(X,y,LogisticRegression(max_iter=1000))\n",
    "print_scores(logreg_model, X_train,X_test,y_train,y_test)"
   ]
  },
  {
   "cell_type": "code",
   "execution_count": 9,
   "metadata": {},
   "outputs": [
    {
     "name": "stdout",
     "output_type": "stream",
     "text": [
      "Cross Val: [0.97953333 0.97693333 0.97593333 0.97473333 0.97813333]\n",
      "Median: 0.9769333333333333\n",
      "Test: 0.99472\n"
     ]
    }
   ],
   "source": [
    "rcf_model = get_mod(X,y,RandomForestClassifier())\n",
    "print_scores(rcf_model, X_train,X_test,y_train,y_test)"
   ]
  },
  {
   "cell_type": "code",
   "execution_count": 10,
   "metadata": {},
   "outputs": [
    {
     "name": "stdout",
     "output_type": "stream",
     "text": [
      "Cross Val: [0.979      0.97833333 0.97593333 0.97513333 0.97846667]\n",
      "Median: 0.9783333333333334\n",
      "Test: 0.99468\n"
     ]
    }
   ],
   "source": [
    "rcf_model = get_mod(X,y,RandomForestClassifier())\n",
    "print_scores(rcf_model, X_train,X_test,y_train,y_test)"
   ]
  },
  {
   "cell_type": "code",
   "execution_count": 11,
   "metadata": {},
   "outputs": [
    {
     "name": "stdout",
     "output_type": "stream",
     "text": [
      "Cross Val: [0.97733333 0.975      0.976      0.974      0.97606667]\n",
      "Median: 0.976\n",
      "Test: 0.97932\n"
     ]
    }
   ],
   "source": [
    "gbc_model = get_mod(X,y,GradientBoostingClassifier())\n",
    "print_scores(gbc_model, X_train,X_test,y_train,y_test)"
   ]
  },
  {
   "cell_type": "code",
   "execution_count": 12,
   "metadata": {},
   "outputs": [
    {
     "name": "stdout",
     "output_type": "stream",
     "text": [
      "Cross Val: [0.7042     0.70666667 0.7034     0.7028     0.70526667]\n",
      "Median: 0.7042\n",
      "Test: 0.76016\n"
     ]
    }
   ],
   "source": [
    "knn_model = get_mod(X,y,KNeighborsClassifier())\n",
    "print_scores(knn_model, X_train,X_test,y_train,y_test)"
   ]
  },
  {
   "cell_type": "code",
   "execution_count": 13,
   "metadata": {},
   "outputs": [
    {
     "name": "stdout",
     "output_type": "stream",
     "text": [
      "Cross Val: [0.9652     0.9628     0.963      0.9628     0.96366667]\n",
      "Median: 0.963\n",
      "Test: 0.99156\n"
     ]
    }
   ],
   "source": [
    "dtc_model = get_mod(X,y,DecisionTreeClassifier())\n",
    "print_scores(dtc_model, X_train,X_test,y_train,y_test)"
   ]
  },
  {
   "cell_type": "markdown",
   "metadata": {},
   "source": [
    "### Trying df with removed columns to see what changes there are"
   ]
  },
  {
   "cell_type": "code",
   "execution_count": 14,
   "metadata": {},
   "outputs": [],
   "source": [
    "fdf = pd.DataFrame(df[['alpha','delta', 'u', 'g', 'r', 'i', 'z', 'class', 'redshift']])"
   ]
  },
  {
   "cell_type": "code",
   "execution_count": 15,
   "metadata": {},
   "outputs": [],
   "source": [
    "fdf_X = fdf.drop('class', axis=1)\n",
    "fdf_y = fdf['class']"
   ]
  },
  {
   "cell_type": "code",
   "execution_count": 16,
   "metadata": {},
   "outputs": [],
   "source": [
    "fdf_X_train,fdf_X_test,fdf_y_train,fdf_y_test = train_test_split(fdf_X,fdf_y)"
   ]
  },
  {
   "cell_type": "code",
   "execution_count": 17,
   "metadata": {},
   "outputs": [
    {
     "name": "stdout",
     "output_type": "stream",
     "text": [
      "Cross Val: [0.59553333 0.59553333 0.5956     0.5956     0.5956    ]\n",
      "Median: 0.5956\n",
      "Test: 0.59108\n"
     ]
    }
   ],
   "source": [
    "fdf_dummy_model = get_mod(fdf_X,fdf_y,DummyClassifier(strategy='most_frequent'))\n",
    "print_scores(fdf_dummy_model, fdf_X_train,fdf_X_test,fdf_y_train,fdf_y_test)"
   ]
  },
  {
   "cell_type": "code",
   "execution_count": 18,
   "metadata": {},
   "outputs": [
    {
     "name": "stdout",
     "output_type": "stream",
     "text": [
      "Cross Val: [0.95533333 0.94986667 0.95493333 0.95333333 0.95613333]\n",
      "Median: 0.9549333333333333\n",
      "Test: 0.95388\n"
     ]
    }
   ],
   "source": [
    "fdf_logreg_model = get_mod(fdf_X,fdf_y,LogisticRegression(max_iter=10000))\n",
    "print_scores(fdf_logreg_model, fdf_X_train,fdf_X_test,fdf_y_train,fdf_y_test)"
   ]
  },
  {
   "cell_type": "code",
   "execution_count": 19,
   "metadata": {},
   "outputs": [
    {
     "name": "stdout",
     "output_type": "stream",
     "text": [
      "Cross Val: [0.97726667 0.97633333 0.97713333 0.97693333 0.97726667]\n",
      "Median: 0.9771333333333333\n",
      "Test: 0.99476\n"
     ]
    }
   ],
   "source": [
    "fdf_rcf_model = get_mod(fdf_X,fdf_y,RandomForestClassifier())\n",
    "print_scores(fdf_rcf_model, fdf_X_train,fdf_X_test,fdf_y_train,fdf_y_test)"
   ]
  },
  {
   "cell_type": "code",
   "execution_count": 20,
   "metadata": {},
   "outputs": [
    {
     "name": "stdout",
     "output_type": "stream",
     "text": [
      "Cross Val: [0.97586667 0.97353333 0.9756     0.97406667 0.9754    ]\n",
      "Median: 0.9754\n",
      "Test: 0.97784\n"
     ]
    }
   ],
   "source": [
    "fdf_gbc_model = get_mod(fdf_X,fdf_y,GradientBoostingClassifier())\n",
    "print_scores(fdf_gbc_model, fdf_X_train,fdf_X_test,fdf_y_train,fdf_y_test)"
   ]
  },
  {
   "cell_type": "code",
   "execution_count": 21,
   "metadata": {},
   "outputs": [
    {
     "name": "stdout",
     "output_type": "stream",
     "text": [
      "Cross Val: [0.8222     0.8226     0.82553333 0.82033333 0.82133333]\n",
      "Median: 0.8222\n",
      "Test: 0.86148\n"
     ]
    }
   ],
   "source": [
    "fdf_knn_model = get_mod(fdf_X,fdf_y,KNeighborsClassifier())\n",
    "print_scores(fdf_knn_model, fdf_X_train,fdf_X_test,fdf_y_train,fdf_y_test)"
   ]
  },
  {
   "cell_type": "code",
   "execution_count": 22,
   "metadata": {},
   "outputs": [
    {
     "name": "stdout",
     "output_type": "stream",
     "text": [
      "Cross Val: [0.96466667 0.96413333 0.9646     0.9636     0.964     ]\n",
      "Median: 0.9641333333333333\n",
      "Test: 0.9904\n"
     ]
    }
   ],
   "source": [
    "fdf_dtc_model = get_mod(fdf_X,fdf_y,DecisionTreeClassifier())\n",
    "print_scores(fdf_dtc_model, fdf_X_train,fdf_X_test,fdf_y_train,fdf_y_test)"
   ]
  },
  {
   "cell_type": "code",
   "execution_count": 23,
   "metadata": {},
   "outputs": [
    {
     "name": "stdout",
     "output_type": "stream",
     "text": [
      "CV Results for `rfc_model1` model:\n",
      "            0.97785 ± 0.00170 accuracy\n",
      "        \n"
     ]
    },
    {
     "data": {
      "text/plain": [
       "{'rfc1__max_features': 'log2', 'rfc1__min_samples_leaf': 1}"
      ]
     },
     "execution_count": 23,
     "metadata": {},
     "output_type": "execute_result"
    }
   ],
   "source": [
    "#code from flatiron with piplelines, used for quick grid search\n",
    "\n",
    "def grab_num(df):\n",
    "    return df.select_dtypes(include=['float', 'int'])\n",
    "\n",
    "\n",
    "#Grabs numeric cols\n",
    "GrabNum = FunctionTransformer(grab_num)\n",
    "\n",
    "\n",
    "#scales numeric cols\n",
    "pipe = Pipeline(steps=[\n",
    "    ('num', GrabNum),\n",
    "    ('ss', StandardScaler())\n",
    "])\n",
    "#pipe.fit(X)\n",
    "\n",
    "\n",
    "#sets up imputer for missing values and scaler to scale them\n",
    "subpipe_num = Pipeline(steps=[\n",
    "    ('num_impute',SimpleImputer(strategy='median')),\n",
    "    ('ss', StandardScaler())\n",
    "])\n",
    "\n",
    "\n",
    "#sets up ohe to take care of cat. cols\n",
    "subpipe_cat = Pipeline(steps=[\n",
    "    ('cat_impute',SimpleImputer(strategy='most_frequent')),\n",
    "    ('ohe', OneHotEncoder(sparse=False, handle_unknown='ignore'))\n",
    "])\n",
    "test = selector(dtype_include=object)\n",
    "\n",
    "\n",
    "#sets up col. trans. to transform specific cols based on whats needed, then uses subpipes \n",
    "#for cat. and num. on object and int/float cols. respectivly, ignoring remainding cols.\n",
    "CT = ColumnTransformer(transformers=[\n",
    "    ('subpipe_num', subpipe_num, selector(dtype_include=np.number)),\n",
    "    ('subpipe_cat', subpipe_cat, selector(dtype_include=object))\n",
    "],remainder='passthrough')\n",
    "\n",
    "\n",
    "#uses a series of pipeslines to create a dummy model with cleaned data\n",
    "dummy_model_pipe = Pipeline(steps=[\n",
    "    ('ct', CT),\n",
    "    ('dum', DummyClassifier(strategy='most_frequent'))\n",
    "])\n",
    "\n",
    "\n",
    "#uses a series of pipeslines to create a logreg. model with cleaned data\n",
    "logreg_model_pipe = Pipeline([\n",
    "    ('ct', CT),\n",
    "    ('logreg', LogisticRegression(max_iter=1000,random_state=42))\n",
    "])\n",
    "\n",
    "\n",
    "#take args to create a named model with cv   \n",
    "class ModelWithCV():\n",
    "    '''Structure to save the model and more easily see its crossvalidation'''\n",
    "    \n",
    "    def __init__(self, model, model_name, X, y, cv_now=True):\n",
    "        self.model = model\n",
    "        self.name = model_name\n",
    "        self.X = X\n",
    "        self.y = y\n",
    "        # For CV results\n",
    "        self.cv_results = None\n",
    "        self.cv_mean = None\n",
    "        self.cv_median = None\n",
    "        self.cv_std = None\n",
    "        #\n",
    "        if cv_now:\n",
    "            self.cross_validate()\n",
    "        \n",
    "    def cross_validate(self, X=None, y=None, kfolds=10):\n",
    "        '''\n",
    "        Perform cross-validation and return results.\n",
    "        \n",
    "        Args: \n",
    "          X:\n",
    "            Optional; Training data to perform CV on. Otherwise use X from object\n",
    "          y:\n",
    "            Optional; Training data to perform CV on. Otherwise use y from object\n",
    "          kfolds:\n",
    "            Optional; Number of folds for CV (default is 10)  \n",
    "        '''\n",
    "        \n",
    "        cv_X = X if X else self.X\n",
    "        cv_y = y if y else self.y\n",
    "\n",
    "        self.cv_results = cross_val_score(self.model, cv_X, cv_y, cv=kfolds)\n",
    "        self.cv_mean = np.mean(self.cv_results)\n",
    "        self.cv_median = np.median(self.cv_results)\n",
    "        self.cv_std = np.std(self.cv_results)\n",
    "\n",
    "        \n",
    "    def print_cv_summary(self):\n",
    "        cv_summary = (\n",
    "        f'''CV Results for `{self.name}` model:\n",
    "            {self.cv_mean:.5f} ± {self.cv_std:.5f} accuracy\n",
    "        ''')\n",
    "        print(cv_summary)\n",
    "\n",
    "        \n",
    "    def plot_cv(self, ax):\n",
    "        '''\n",
    "        Plot the cross-validation values using the array of results and given \n",
    "        Axis for plotting.\n",
    "        '''\n",
    "        ax.set_title(f'CV Results for `{self.name}` Model')\n",
    "        # Thinner violinplot with higher bw\n",
    "        sns.violinplot(y=self.cv_results, ax=ax, bw=.4)\n",
    "        sns.swarmplot(\n",
    "                y=self.cv_results,\n",
    "                color='orange',\n",
    "                size=10,\n",
    "                alpha= 0.8,\n",
    "                ax=ax\n",
    "        )\n",
    "\n",
    "        return ax\n",
    "\n",
    "\n",
    "\n",
    "X1 = fdf.drop('class', axis=1)\n",
    "y1 = fdf['class']\n",
    "X_train1, X_test1, y_train1, y_test1 = train_test_split(X1,y1)\n",
    "\n",
    "\n",
    "rfc_model_pipe1 = Pipeline([('ct',CT),('rfc1',RandomForestClassifier())])\n",
    "rfc_pipe1 = ModelWithCV(rfc_model_pipe1, 'rfc_model1', X_train1, y_train1)\n",
    "rfc_test_pipe1 = ModelWithCV(rfc_model_pipe1, 'rfc_t_model1', X_test1, y_test1)\n",
    "rfc_pipe1.print_cv_summary()\n",
    "\n",
    "\n",
    "\n",
    "params = {}\n",
    "\n",
    "params['rfc1__criterion'] = [\"gini\", \"entropy\"]\n",
    "params['rfc1__min_samples_leaf'] = [1,7,14]\n",
    "\n",
    "gs = GridSearchCV(rfc_model_pipe1, params, cv=10)\n",
    "gs.fit(X_train1, y_train1)\n",
    "gs.best_params_\n",
    "\n",
    "\n",
    "params1 = {}\n",
    "params['rfc1__criterion'] = [\"gini\", \"entropy\"]\n",
    "params1['rfc1__max_features'] = [\"auto\", \"sqrt\", \"log2\"]\n",
    "params1['rfc1__min_samples_leaf'] = [1,3,5]\n",
    "\n",
    "gs1 = GridSearchCV(rfc_model_pipe1, params1, cv=10)\n",
    "gs1.fit(X_train1, y_train1)\n",
    "gs1.best_params_"
   ]
  },
  {
   "cell_type": "code",
   "execution_count": 24,
   "metadata": {},
   "outputs": [
    {
     "name": "stdout",
     "output_type": "stream",
     "text": [
      "Cross Val: [0.97846667 0.97726667 0.97813333 0.97826667 0.97793333]\n",
      "Median: 0.9781333333333333\n",
      "Test: 0.98832\n"
     ]
    }
   ],
   "source": [
    "fdf_rcf_model = get_mod(fdf_X,fdf_y,RandomForestClassifier(criterion='entropy',max_features='log2',min_samples_leaf=3))\n",
    "print_scores(fdf_rcf_model, fdf_X_train,fdf_X_test,fdf_y_train,fdf_y_test)"
   ]
  },
  {
   "cell_type": "code",
   "execution_count": 25,
   "metadata": {},
   "outputs": [],
   "source": [
    "preds = fdf_rcf_model.predict(fdf_X_test)"
   ]
  },
  {
   "cell_type": "code",
   "execution_count": 26,
   "metadata": {},
   "outputs": [
    {
     "data": {
      "text/plain": [
       "0.98832"
      ]
     },
     "execution_count": 26,
     "metadata": {},
     "output_type": "execute_result"
    }
   ],
   "source": [
    "fdf_rcf_model.score(fdf_X_test,fdf_y_test)"
   ]
  },
  {
   "cell_type": "code",
   "execution_count": 31,
   "metadata": {},
   "outputs": [],
   "source": [
    "cm = confusion_matrix(fdf_y_test,preds)\n",
    "cm;"
   ]
  },
  {
   "cell_type": "code",
   "execution_count": 32,
   "metadata": {},
   "outputs": [
    {
     "data": {
      "text/plain": [
       "array([[14676,    82,    19],\n",
       "       [  189,  4566,     1],\n",
       "       [    1,     0,  5466]], dtype=int64)"
      ]
     },
     "execution_count": 32,
     "metadata": {},
     "output_type": "execute_result"
    }
   ],
   "source": [
    "cm"
   ]
  },
  {
   "cell_type": "code",
   "execution_count": 33,
   "metadata": {},
   "outputs": [
    {
     "data": {
      "image/png": "[encoded data removed]",
      "text/plain": [
       "<Figure size 360x360 with 2 Axes>"
      ]
     },
     "metadata": {
      "needs_background": "light"
     },
     "output_type": "display_data"
    }
   ],
   "source": [
    "plt.figure(figsize=(5,5));\n",
    "sns.heatmap(cm, annot=True);\n",
    "plt.xlabel('predicted');\n",
    "plt.ylabel('true');"
   ]
  },
  {
   "cell_type": "code",
   "execution_count": 34,
   "metadata": {},
   "outputs": [
    {
     "data": {
      "image/png": "[encoded data removed]",
      "text/plain": [
       "<Figure size 1152x432 with 2 Axes>"
      ]
     },
     "metadata": {
      "needs_background": "light"
     },
     "output_type": "display_data"
    }
   ],
   "source": [
    "plt.figure(figsize=(16, 6))\n",
    "heatmap = sns.heatmap(fdf.corr(), vmin=-1, vmax=1, annot=True, cmap='BrBG')\n",
    "heatmap.set_title('Correlation Heatmap', fontdict={'fontsize':18}, pad=12);"
   ]
  },
  {
   "cell_type": "code",
   "execution_count": 35,
   "metadata": {},
   "outputs": [
    {
     "data": {
      "text/plain": [
       "GALAXY    59445\n",
       "STAR      21594\n",
       "QSO       18961\n",
       "Name: class, dtype: int64"
      ]
     },
     "execution_count": 35,
     "metadata": {},
     "output_type": "execute_result"
    }
   ],
   "source": [
    "fdf['class'].value_counts()"
   ]
  },
  {
   "cell_type": "code",
   "execution_count": 36,
   "metadata": {},
   "outputs": [],
   "source": [
    "cl = {'GALAXY' : 0,\n",
    "     'STAR' : 1,\n",
    "     'QSO' : 2}"
   ]
  },
  {
   "cell_type": "code",
   "execution_count": 37,
   "metadata": {},
   "outputs": [],
   "source": [
    "\n",
    "fdf[\"class\"].replace(cl, inplace=True)"
   ]
  },
  {
   "cell_type": "code",
   "execution_count": 38,
   "metadata": {},
   "outputs": [
    {
     "data": {
      "image/png": "[encoded data removed]",
      "text/plain": [
       "<Figure size 1152x432 with 2 Axes>"
      ]
     },
     "metadata": {
      "needs_background": "light"
     },
     "output_type": "display_data"
    }
   ],
   "source": [
    "plt.figure(figsize=(16, 6))\n",
    "heatmap = sns.heatmap(fdf.corr(), vmin=-1, vmax=1, annot=True, cmap='BrBG')\n",
    "heatmap.set_title('Correlation Heatmap', fontdict={'fontsize':18}, pad=12);"
   ]
  },
  {
   "cell_type": "code",
   "execution_count": 39,
   "metadata": {},
   "outputs": [
    {
     "data": {
      "text/plain": [
       "'Near Infrared filter in the photometric system'"
      ]
     },
     "execution_count": 39,
     "metadata": {},
     "output_type": "execute_result"
    }
   ],
   "source": [
    "i"
   ]
  },
  {
   "cell_type": "code",
   "execution_count": 40,
   "metadata": {},
   "outputs": [
    {
     "data": {
      "text/plain": [
       "'redshift value based on the increase in wavelength'"
      ]
     },
     "execution_count": 40,
     "metadata": {},
     "output_type": "execute_result"
    }
   ],
   "source": [
    "redshift"
   ]
  },
  {
   "cell_type": "code",
   "execution_count": 41,
   "metadata": {},
   "outputs": [
    {
     "data": {
      "text/plain": [
       "'Green filter in the photometric system'"
      ]
     },
     "execution_count": 41,
     "metadata": {},
     "output_type": "execute_result"
    }
   ],
   "source": [
    "g"
   ]
  },
  {
   "cell_type": "code",
   "execution_count": 42,
   "metadata": {},
   "outputs": [
    {
     "data": {
      "text/plain": [
       "'Ultraviolet filter in the photometric system'"
      ]
     },
     "execution_count": 42,
     "metadata": {},
     "output_type": "execute_result"
    }
   ],
   "source": [
    "u"
   ]
  },
  {
   "cell_type": "code",
   "execution_count": 43,
   "metadata": {},
   "outputs": [],
   "source": [
    "ndf = fdf[['class', 'redshift', 'i', 'g', 'u']]"
   ]
  },
  {
   "cell_type": "code",
   "execution_count": 44,
   "metadata": {},
   "outputs": [
    {
     "data": {
      "text/html": [
       "<div>\n",
       "<style scoped>\n",
       "    .dataframe tbody tr th:only-of-type {\n",
       "        vertical-align: middle;\n",
       "    }\n",
       "\n",
       "    .dataframe tbody tr th {\n",
       "        vertical-align: top;\n",
       "    }\n",
       "\n",
       "    .dataframe thead th {\n",
       "        text-align: right;\n",
       "    }\n",
       "</style>\n",
       "<table border=\"1\" class=\"dataframe\">\n",
       "  <thead>\n",
       "    <tr style=\"text-align: right;\">\n",
       "      <th></th>\n",
       "      <th>class</th>\n",
       "      <th>redshift</th>\n",
       "      <th>i</th>\n",
       "      <th>g</th>\n",
       "      <th>u</th>\n",
       "    </tr>\n",
       "  </thead>\n",
       "  <tbody>\n",
       "    <tr>\n",
       "      <th>0</th>\n",
       "      <td>0</td>\n",
       "      <td>0.634794</td>\n",
       "      <td>19.16573</td>\n",
       "      <td>22.27530</td>\n",
       "      <td>23.87882</td>\n",
       "    </tr>\n",
       "    <tr>\n",
       "      <th>1</th>\n",
       "      <td>0</td>\n",
       "      <td>0.779136</td>\n",
       "      <td>21.16812</td>\n",
       "      <td>22.83188</td>\n",
       "      <td>24.77759</td>\n",
       "    </tr>\n",
       "    <tr>\n",
       "      <th>2</th>\n",
       "      <td>0</td>\n",
       "      <td>0.644195</td>\n",
       "      <td>19.34857</td>\n",
       "      <td>22.66389</td>\n",
       "      <td>25.26307</td>\n",
       "    </tr>\n",
       "    <tr>\n",
       "      <th>3</th>\n",
       "      <td>0</td>\n",
       "      <td>0.932346</td>\n",
       "      <td>20.50454</td>\n",
       "      <td>23.77656</td>\n",
       "      <td>22.13682</td>\n",
       "    </tr>\n",
       "    <tr>\n",
       "      <th>4</th>\n",
       "      <td>0</td>\n",
       "      <td>0.116123</td>\n",
       "      <td>15.97711</td>\n",
       "      <td>17.58028</td>\n",
       "      <td>19.43718</td>\n",
       "    </tr>\n",
       "  </tbody>\n",
       "</table>\n",
       "</div>"
      ],
      "text/plain": [
       "   class  redshift         i         g         u\n",
       "0      0  0.634794  19.16573  22.27530  23.87882\n",
       "1      0  0.779136  21.16812  22.83188  24.77759\n",
       "2      0  0.644195  19.34857  22.66389  25.26307\n",
       "3      0  0.932346  20.50454  23.77656  22.13682\n",
       "4      0  0.116123  15.97711  17.58028  19.43718"
      ]
     },
     "execution_count": 44,
     "metadata": {},
     "output_type": "execute_result"
    }
   ],
   "source": [
    "ndf.head()"
   ]
  },
  {
   "cell_type": "code",
   "execution_count": 45,
   "metadata": {},
   "outputs": [
    {
     "data": {
      "image/png": "[encoded data removed]",
      "text/plain": [
       "<Figure size 1152x432 with 2 Axes>"
      ]
     },
     "metadata": {
      "needs_background": "light"
     },
     "output_type": "display_data"
    }
   ],
   "source": [
    "plt.figure(figsize=(16, 6))\n",
    "heatmap = sns.heatmap(ndf.corr(), vmin=-1, vmax=1, annot=True, cmap='BrBG')\n",
    "heatmap.set_title('Correlation Heatmap', fontdict={'fontsize':18}, pad=12);"
   ]
  },
  {
   "cell_type": "code",
   "execution_count": 46,
   "metadata": {},
   "outputs": [],
   "source": [
    "predsgraph = {'Correct': 24712, 'Incorrect': 288}"
   ]
  },
  {
   "cell_type": "code",
   "execution_count": 47,
   "metadata": {},
   "outputs": [
    {
     "name": "stdout",
     "output_type": "stream",
     "text": [
      "dict_keys(['Correct', 'Incorrect'])\n"
     ]
    }
   ],
   "source": [
    "print(predsgraph.keys())"
   ]
  },
  {
   "cell_type": "code",
   "execution_count": 48,
   "metadata": {},
   "outputs": [
    {
     "data": {
      "image/png": "[encoded data removed]",
      "text/plain": [
       "<Figure size 432x288 with 1 Axes>"
      ]
     },
     "metadata": {
      "needs_background": "light"
     },
     "output_type": "display_data"
    }
   ],
   "source": [
    "sns.barplot(x = ['Correct', 'Incorrect'],\n",
    "            y = [24712,288],\n",
    "           palette='Set2')\n",
    "plt.xlabel('Predictions')\n",
    "plt.ylabel('Objects Observed')\n",
    "# Show the plot\n",
    "plt.show()"
   ]
  },
  {
   "cell_type": "code",
   "execution_count": null,
   "metadata": {},
   "outputs": [],
   "source": []
  }
 ],
 "metadata": {
  "kernelspec": {
   "display_name": "Python (learn-env)",
   "language": "python",
   "name": "learn-env"
  },
  "language_info": {
   "codemirror_mode": {
    "name": "ipython",
    "version": 3
   },
   "file_extension": ".py",
   "mimetype": "text/x-python",
   "name": "python",
   "nbconvert_exporter": "python",
   "pygments_lexer": "ipython3",
   "version": "3.8.5"
  }
 },
 "nbformat": 4,
 "nbformat_minor": 4
}
